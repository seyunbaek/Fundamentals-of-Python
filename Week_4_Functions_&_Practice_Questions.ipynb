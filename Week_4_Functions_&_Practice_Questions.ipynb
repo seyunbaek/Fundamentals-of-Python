{
  "cells": [
    {
      "cell_type": "markdown",
      "metadata": {
        "id": "iQLzdlfcH1rF"
      },
      "source": [
        "# Week 4: Function & Practice Questions\n",
        "\n",
        "A function is a block of code which only runs when it is called.\n",
        "## Creating a Function\n",
        "In Python a function is defined using the def keyword:\n",
        "\n",
        "### Example\n",
        "```\n",
        "def my_function():\n",
        "  print(\"Hello from a function\")\n",
        "```\n",
        "## Calling a Function\n",
        "To call a function, use the function name followed by brackets:\n",
        "### Example\n",
        "```\n",
        "def my_function():\n",
        "  print(\"Hello from a function\")\n",
        "\n",
        "my_function()\n",
        "```\n",
        "## Arbitrary Arguments, *args\n",
        "If you do not know how many arguments that will be passed into your function, add a * before the parameter name in the function definition.\n",
        "This way the function will receive a tuple of arguments, and can access the items accordingly:\n",
        "\n",
        "### Example\n",
        "If the number of arguments is unknown, add a * before the parameter name:\n",
        "```\n",
        "def my_function(*kids):\n",
        "  print(\"The youngest child is \" + kids[2])\n",
        "\n",
        "my_function(\"Emil\", \"Tobias\", \"Linus\")\n",
        "```\n",
        "\n",
        "## Keyword Arguments\n",
        "You can also send arguments with the key = value syntax.\n",
        "\n",
        "This way the order of the arguments does not matter.\n",
        "\n",
        "### Example\n",
        "```\n",
        "def my_function(child3, child2, child1):\n",
        "  print(\"The youngest child is \" + child3)\n",
        "\n",
        "my_function(child1 = \"Emil\", child2 = \"Tobias\", child3 = \"Linus\")\n",
        "```\n",
        "\n",
        "##Return Values\n",
        "\n",
        "To let a function return a value, use the ***return*** statement:"
      ]
    },
    {
      "cell_type": "markdown",
      "metadata": {
        "id": "-z7FCJKoI7NU"
      },
      "source": [
        "# Practice!\n",
        "\n",
        "\n",
        "# **Q1**. Jack is not good at math, he can not read the number properly. \n",
        "Jack reads the number REVERSELY, Jack tries to compare two number\n",
        " and print BIGGER number that Jack got\n",
        " DO NOT use LIST Type(list.reverse)\n",
        "\n",
        "\n"
      ]
    },
    {
      "cell_type": "markdown",
      "metadata": {
        "id": "9goP6AY2juLc"
      },
      "source": [
        "# **Q2**. Get all the prime number from the given number N\n",
        "\n",
        "\n"
      ]
    },
    {
      "cell_type": "markdown",
      "metadata": {
        "id": "SXfBmNkyj1DH"
      },
      "source": [
        "# **Q3**.3 Print the square with N length \n",
        "```\n",
        " Ex) N = 5\n",
        " *****\n",
        " *****\n",
        " *****\n",
        " *****\n",
        " *****\n",
        "```\n"
      ]
    },
    {
      "cell_type": "markdown",
      "metadata": {
        "id": "SndMiswkj3wd"
      },
      "source": [
        "# **Q4**. Print Square with N length, BUT inside is empty\n",
        "```\n",
        "Ex) N = 4\n",
        " * * * * \n",
        " *     *\n",
        " *     *\n",
        " * * * * \n",
        "```"
      ]
    },
    {
      "cell_type": "markdown",
      "metadata": {
        "id": "I9rHlI0Uj7Ws"
      },
      "source": [
        "\n",
        "# **Q5**.Get all the sum of geometric sequence that N^(n-1).\n",
        "```\n",
        "Ex) n = 5\n",
        "1^0 + 2^1 + 3^2 + 4^3 + 5^4 = 1 + 2 + 9 + 64 + 625 = 701\n",
        "```\n"
      ]
    },
    {
      "cell_type": "markdown",
      "metadata": {
        "id": "9ey3Bq1Ok5XP"
      },
      "source": [
        "\n",
        "# **Q6**. Print this\n",
        "```\n",
        "1+2-+3-+-4+-+-5+-+-+6-+-+-+7-+-+-+-8+-+-+-+-9+-+-+-+-+10\n",
        "```\n"
      ]
    },
    {
      "cell_type": "markdown",
      "metadata": {
        "id": "703xDnmslAIR"
      },
      "source": [
        "## Printing Pyramid!\n",
        "\n",
        "**Q7**. Print the pyramid below\n",
        "```\n",
        "N = 5\n",
        "*\n",
        "**\n",
        "*** \n",
        "****\n",
        "*****\n",
        "```\n",
        "\n",
        "**Q8**. Print the pyramid below\n",
        "```\n",
        "N = 5\n",
        "*****\n",
        "****\n",
        "***\n",
        "**\n",
        "*\n",
        "```\n",
        "\n",
        "**Q9**. Print the pyramid below\n",
        "```\n",
        "N =5 \n",
        "*\n",
        "**\n",
        "***\n",
        "****\n",
        "***** \n",
        "****   \n",
        "***    \n",
        "**     \n",
        "*  \n",
        "```\n",
        "\n",
        "**Q10**. Print the pyramid below\n",
        "\n",
        "```\n",
        "N = 5\n",
        "    * \n",
        "   ***\n",
        "  *****\n",
        " *******\n",
        "*********\n",
        "```\n",
        "**Q11**. Print the pyramid below\n",
        "```\n",
        "n = 6\n",
        "     * \n",
        "    ***\n",
        "   *****\n",
        "  *******\n",
        " *********\n",
        "***********\n",
        " *********  \n",
        "  *******  \n",
        "   *****  \n",
        "    ***  \n",
        "     *\n",
        "```\n"
      ]
    },
    {
      "cell_type": "markdown",
      "metadata": {
        "id": "FVFWiLKJlMSh"
      },
      "source": [
        "\n",
        "\n",
        "**Q12**. One stock's price changes either twice of it or half of it every day.\n",
        "The initial price of stock is $1,024, print all the possible price after 4 days.( HINT : use three for loops )\n",
        "\n",
        "**Q13**. In number theory, Fermat's Last Theorem (sometimes called Fermat's conjecture, especially in older texts) states that no three positive integers a, b, and c satisfy the equation \n",
        "a^n + b^n = c^n for any integer value of n greater than 2. Prove that with codes. ( HINT : use three for loops )"
      ]
    }
  ],
  "metadata": {
    "colab": {
      "collapsed_sections": [],
      "name": "Week 4 Function & Practices.ipynb",
      "provenance": []
    },
    "kernelspec": {
      "display_name": "Python 3.9.13 64-bit",
      "language": "python",
      "name": "python3"
    },
    "language_info": {
      "name": "python",
      "version": "3.9.13"
    },
    "vscode": {
      "interpreter": {
        "hash": "b0fa6594d8f4cbf19f97940f81e996739fb7646882a419484c72d19e05852a7e"
      }
    }
  },
  "nbformat": 4,
  "nbformat_minor": 0
}
