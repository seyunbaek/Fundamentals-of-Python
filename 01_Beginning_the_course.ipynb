{
  "nbformat": 4,
  "nbformat_minor": 0,
  "metadata": {
    "colab": {
      "name": "1. Beginning the course.ipynb",
      "provenance": [],
      "collapsed_sections": []
    },
    "kernelspec": {
      "name": "python3",
      "display_name": "Python 3"
    },
    "language_info": {
      "name": "python"
    }
  },
  "cells": [
    {
      "cell_type": "markdown",
      "source": [
        "# **Week 1: Beginning the Course**\n",
        "\n",
        "## What is Coding?\n",
        "Writing code is writing a precise set of instructions that a computer can follow. It is similar to you writing a to-do list of the tasks you need to complete for the day. Instead, you have to order exactly what to do at any given moment. Computers have to know what to do when the mouse is clicked or a button is pressed.\n",
        "\n",
        "## Coding in Everyday Life\n",
        "Code could be found nearly everywhere in our everday life such as the traffic lights when you cross the road, pressing a button for your coffee machine to make coffee, pressing the floor you want to go to when you ride an elevator, playing video games on your console or computer, scrolling through social media, and more!\n",
        "\n",
        "## Why should we learn to code?\n",
        "Programming requires a lot of thinking when creating what you want, this helps to improve your logical and creative thinking ability. Also, programmers always fix or rewrite the code whenever errors occur so it can improve your problem solving skills. Moreover, writing code enables you to do nearly anything you want with a computer, you can always be creative and create new things that no one else tried! Furthermore, programmers tend to get high-paying jobs compared to other fields. Lastly, even though you are going to focus on other fields, knowing how to write code could really enables you to work more smarter and efficiently. \n",
        "\n",
        "## What is Python?\n",
        "Python is one of the most famous and simple programming language in the world. It was first released by Guido van Rossum, in February 20, 1991. It is used in many big companies or organisations Intel, IBM, NASA, Pixar, Netflix, Facebook,Spotify, Google, etc. uses Python for their products. \n",
        "\n",
        "## Why is Python so popular?\n",
        "With python, we can solve complex problems in less time and fewer lines of code. There is even a quote saying \"Life is too short, you need Python\" which many developers like. Python is beginner-friendly programming language as it is very close to human language. In addition, it is cross-platform programming language, which means it can be used in many different operation system like Windows,iOS, and Linux, etc.\n",
        "\n",
        "## What can we do with Python?\n",
        "Python has a big open-source community of modules and libraries. So, by just learning Python, you can do things like data science, IoT(Internet of Things), AI (Artificial Intelligence),Web development, game development, automation, scientific computing, computer vision or even more things with python.\n",
        "\n",
        "## Map of Computer Science\n",
        "https://www.youtube.com/watch?v=SzJ46YA_RaA&t=544s\n",
        "\n",
        "This video from DOS - Domain of Science explains the vast fields of computer science which could provide you with a clear knowledge base, and possibly find what interests you the most.\n",
        "\n",
        "## What is Jupyter Notebook?\n",
        "Jupyter notebook is a web-based programming platform with a file extension of \".ipynb\". Using this, you could program with Python in the browser. In Jupyter notebook, there are two types of cells that could be displayed in-line: code and text. This is useful for writing code with instructions or descriptions, which is why many scientists and researchers use it. \n",
        "\n",
        "## What is Google Colaboratory?\n",
        "Google Colaboratory is a free online Jupyter Notebook environment based on a cloud server. This is made by Google as an extension of Google Drive. Google Colaboratory enables programmers to write and execute code within the browser without any installations on their computer. The biggest advantage of using Google Colaboratory is that Google offers you a incredibly powerful NVIDIA Tesla K80 graphics card for free, which originally costs around 700USD on its own. This powerful graphics processing unit (GPU) could be useful for artificial intelligence development or data science."
      ],
      "metadata": {
        "id": "N0TBuVLRiDNf"
      }
    },
    {
      "cell_type": "markdown",
      "source": [
        "# **Exercise**\n",
        "Learn how to use the basic funcions in Google Colaboratory!\n",
        "1. Create a new text cell below by pressing the \"+ Text\" button on the top or below the cell.\n",
        "2. In the new text cell, write \"Practice using Google Colaboratory\" in bold by adding \"#\" in front of the text or pressing the first button on the cell menu (at the top of each cell).\n",
        "3. Below it (in the same cell), write your full name in bold by adding \"**\" in front and back of the text or simply pressing the second button on the cell menu.\n",
        "4. Next, write your birthday in DD/MM/YYYY format in italics by adding \"*\" in front and back of the text or pressing the third button on top.\n",
        "5. Write a number list of three of your hobbies by starting with \"1. \" in front of the text or pressing the eigth button on the cell menu.\n",
        "6. Create a new code cell below the text cell you have created by pressing the \"+ Code\" button on the top or below the cell or using Command/ctrl + M B command.\n",
        "7. Write your first line of code by typing the text below:\n",
        "```\n",
        "print(\"Hello, World!\")\n",
        "```\n",
        "8. Try running the code by pressing the play button on the left side of the cell and wait for the output.\n",
        "\n",
        "Now you have learned all the features you will need to use for the rest of this course! You could download this file with your changes by going to File > Download > Download .ipynb. After that, rename the file with your name at the end (\"1_Beginning_the_course_NAME\") and upload this file onto the Onedrive folder and you have completed your first task!\n",
        "\n",
        "※ Feel free to ask any questions to any of us if you need help ※"
      ],
      "metadata": {
        "id": "pEOK1Nxm2OTp"
      }
    }
  ]
}
